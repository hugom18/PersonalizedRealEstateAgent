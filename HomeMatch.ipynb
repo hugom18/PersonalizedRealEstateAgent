{
 "cells": [
  {
   "cell_type": "markdown",
   "id": "9d38b94b",
   "metadata": {},
   "source": [
    "## Project Documentation\n",
    "\n",
    "1. **Environment Setup**  \n",
    "   Installs and configures the OpenAI API, LangChain, and ChromaDB clients.\n",
    "\n",
    "2. **Synthetic Data Generation**  \n",
    "   Uses GPT-3.5 to generate 12 property listings, saved to `listings.json` and `listings.txt`.\n",
    "\n",
    "3. **Embeddings & Indexing**  \n",
    "   Computes text embeddings with OpenAI’s `text-embedding-ada-002` and indexes them in ChromaDB.\n",
    "\n",
    "4. **Semantic Search**  \n",
    "   Defines `search_listings(prefs, top_k)` to embed buyer preferences and retrieve the top-k most similar listings.\n",
    "\n",
    "5. **Personalization**  \n",
    "   Uses an `LLMChain` and prompt template to generate 2–3 paragraph descriptions tailored to each buyer’s needs while preserving factual details.\n",
    "\n",
    "6. **Interactive Demo**  \n",
    "   Prompts the user for preferences and displays the top 3 personalized listings.\n",
    "\n",
    "7. **Files to Submit**  \n",
    "   - `HomeMatch.ipynb` (this notebook)  \n",
    "   - `listings.json` & `listings` (synthetic listings)  \n",
    "   - `requirements.txt`  \n",
    "   - `README.md` (project overview & setup instructions)\n"
   ]
  },
  {
   "cell_type": "markdown",
   "id": "a108af04",
   "metadata": {},
   "source": [
    "This is a starter notebook for the project, you'll have to import the libraries you'll need, you can find a list of the ones available in this workspace in the requirements.txt file in this workspace. "
   ]
  },
  {
   "cell_type": "markdown",
   "id": "5af5b43c",
   "metadata": {},
   "source": [
    "## 1. Environment Setup "
   ]
  },
  {
   "cell_type": "code",
   "execution_count": 1,
   "id": "51712c59",
   "metadata": {},
   "outputs": [
    {
     "name": "stdout",
     "output_type": "stream",
     "text": [
      "Requirement already satisfied: langchain==0.0.305 in /opt/conda/lib/python3.10/site-packages (from -r requirements.txt (line 2)) (0.0.305)\n",
      "Requirement already satisfied: openai==0.28.1 in /opt/conda/lib/python3.10/site-packages (from -r requirements.txt (line 3)) (0.28.1)\n",
      "Requirement already satisfied: pydantic>=1.10.12 in /home/student/.local/lib/python3.10/site-packages (from -r requirements.txt (line 4)) (1.10.22)\n",
      "Requirement already satisfied: pytest>=7.4.0 in /home/student/.local/lib/python3.10/site-packages (from -r requirements.txt (line 5)) (8.4.1)\n",
      "Requirement already satisfied: sentence-transformers==2.2.0 in /home/student/.local/lib/python3.10/site-packages (from -r requirements.txt (line 6)) (2.2.0)\n",
      "Requirement already satisfied: transformers>=4.31.0 in /home/student/.local/lib/python3.10/site-packages (from -r requirements.txt (line 7)) (4.35.2)\n",
      "Requirement already satisfied: chromadb==0.4.12 in /opt/conda/lib/python3.10/site-packages (from -r requirements.txt (line 8)) (0.4.12)\n",
      "Requirement already satisfied: jupyter==1.0.0 in /opt/conda/lib/python3.10/site-packages (from -r requirements.txt (line 9)) (1.0.0)\n",
      "Requirement already satisfied: tiktoken==0.4.0 in /opt/conda/lib/python3.10/site-packages (from -r requirements.txt (line 10)) (0.4.0)\n",
      "Requirement already satisfied: pandas==2.1.0 in /home/student/.local/lib/python3.10/site-packages (from -r requirements.txt (line 11)) (2.1.0)\n",
      "Requirement already satisfied: pillow>=9.0.0 in /home/student/.local/lib/python3.10/site-packages (from -r requirements.txt (line 13)) (11.2.1)\n",
      "Requirement already satisfied: huggingface_hub==0.16.4 in /home/student/.local/lib/python3.10/site-packages (from -r requirements.txt (line 14)) (0.16.4)\n",
      "Requirement already satisfied: numexpr<3.0.0,>=2.8.4 in /opt/conda/lib/python3.10/site-packages (from langchain==0.0.305->-r requirements.txt (line 2)) (2.10.0)\n",
      "Requirement already satisfied: async-timeout<5.0.0,>=4.0.0 in /opt/conda/lib/python3.10/site-packages (from langchain==0.0.305->-r requirements.txt (line 2)) (4.0.3)\n",
      "Requirement already satisfied: numpy<2,>=1 in /opt/conda/lib/python3.10/site-packages (from langchain==0.0.305->-r requirements.txt (line 2)) (1.24.3)\n",
      "Requirement already satisfied: SQLAlchemy<3,>=1.4 in /opt/conda/lib/python3.10/site-packages (from langchain==0.0.305->-r requirements.txt (line 2)) (2.0.30)\n",
      "Requirement already satisfied: requests<3,>=2 in /opt/conda/lib/python3.10/site-packages (from langchain==0.0.305->-r requirements.txt (line 2)) (2.29.0)\n",
      "Requirement already satisfied: anyio<4.0 in /opt/conda/lib/python3.10/site-packages (from langchain==0.0.305->-r requirements.txt (line 2)) (3.7.1)\n",
      "Requirement already satisfied: aiohttp<4.0.0,>=3.8.3 in /opt/conda/lib/python3.10/site-packages (from langchain==0.0.305->-r requirements.txt (line 2)) (3.9.5)\n",
      "Requirement already satisfied: PyYAML>=5.3 in /opt/conda/lib/python3.10/site-packages (from langchain==0.0.305->-r requirements.txt (line 2)) (6.0)\n",
      "Requirement already satisfied: dataclasses-json<0.7,>=0.5.7 in /opt/conda/lib/python3.10/site-packages (from langchain==0.0.305->-r requirements.txt (line 2)) (0.6.6)\n",
      "Requirement already satisfied: tenacity<9.0.0,>=8.1.0 in /opt/conda/lib/python3.10/site-packages (from langchain==0.0.305->-r requirements.txt (line 2)) (8.3.0)\n",
      "Requirement already satisfied: langsmith<0.1.0,>=0.0.38 in /opt/conda/lib/python3.10/site-packages (from langchain==0.0.305->-r requirements.txt (line 2)) (0.0.92)\n",
      "Requirement already satisfied: jsonpatch<2.0,>=1.33 in /opt/conda/lib/python3.10/site-packages (from langchain==0.0.305->-r requirements.txt (line 2)) (1.33)\n",
      "Requirement already satisfied: tqdm in /opt/conda/lib/python3.10/site-packages (from openai==0.28.1->-r requirements.txt (line 3)) (4.65.0)\n",
      "Requirement already satisfied: scikit-learn in /opt/conda/lib/python3.10/site-packages (from sentence-transformers==2.2.0->-r requirements.txt (line 6)) (1.4.2)\n",
      "Requirement already satisfied: sentencepiece in /opt/conda/lib/python3.10/site-packages (from sentence-transformers==2.2.0->-r requirements.txt (line 6)) (0.2.0)\n",
      "Requirement already satisfied: torch>=1.6.0 in /opt/conda/lib/python3.10/site-packages (from sentence-transformers==2.2.0->-r requirements.txt (line 6)) (2.0.1)\n",
      "Requirement already satisfied: torchvision in /opt/conda/lib/python3.10/site-packages (from sentence-transformers==2.2.0->-r requirements.txt (line 6)) (0.15.2)\n",
      "Requirement already satisfied: scipy in /opt/conda/lib/python3.10/site-packages (from sentence-transformers==2.2.0->-r requirements.txt (line 6)) (1.13.0)\n",
      "Requirement already satisfied: nltk in /opt/conda/lib/python3.10/site-packages (from sentence-transformers==2.2.0->-r requirements.txt (line 6)) (3.8.1)\n",
      "Requirement already satisfied: posthog>=2.4.0 in /opt/conda/lib/python3.10/site-packages (from chromadb==0.4.12->-r requirements.txt (line 8)) (3.5.0)\n",
      "Requirement already satisfied: importlib-resources in /opt/conda/lib/python3.10/site-packages (from chromadb==0.4.12->-r requirements.txt (line 8)) (6.4.0)\n",
      "Requirement already satisfied: typing-extensions>=4.5.0 in /opt/conda/lib/python3.10/site-packages (from chromadb==0.4.12->-r requirements.txt (line 8)) (4.11.0)\n",
      "Requirement already satisfied: pulsar-client>=3.1.0 in /opt/conda/lib/python3.10/site-packages (from chromadb==0.4.12->-r requirements.txt (line 8)) (3.5.0)\n",
      "Requirement already satisfied: chroma-hnswlib==0.7.3 in /opt/conda/lib/python3.10/site-packages (from chromadb==0.4.12->-r requirements.txt (line 8)) (0.7.3)\n",
      "Requirement already satisfied: tokenizers>=0.13.2 in /home/student/.local/lib/python3.10/site-packages (from chromadb==0.4.12->-r requirements.txt (line 8)) (0.15.2)\n",
      "Requirement already satisfied: pypika>=0.48.9 in /opt/conda/lib/python3.10/site-packages (from chromadb==0.4.12->-r requirements.txt (line 8)) (0.48.9)\n",
      "Requirement already satisfied: overrides>=7.3.1 in /opt/conda/lib/python3.10/site-packages (from chromadb==0.4.12->-r requirements.txt (line 8)) (7.7.0)\n",
      "Requirement already satisfied: bcrypt>=4.0.1 in /opt/conda/lib/python3.10/site-packages (from chromadb==0.4.12->-r requirements.txt (line 8)) (4.1.3)\n",
      "Requirement already satisfied: uvicorn[standard]>=0.18.3 in /opt/conda/lib/python3.10/site-packages (from chromadb==0.4.12->-r requirements.txt (line 8)) (0.29.0)\n",
      "Requirement already satisfied: onnxruntime>=1.14.1 in /opt/conda/lib/python3.10/site-packages (from chromadb==0.4.12->-r requirements.txt (line 8)) (1.18.0)\n",
      "Requirement already satisfied: fastapi<0.100.0,>=0.95.2 in /opt/conda/lib/python3.10/site-packages (from chromadb==0.4.12->-r requirements.txt (line 8)) (0.99.1)\n",
      "Requirement already satisfied: typer>=0.9.0 in /opt/conda/lib/python3.10/site-packages (from chromadb==0.4.12->-r requirements.txt (line 8)) (0.12.3)\n",
      "Requirement already satisfied: qtconsole in /opt/conda/lib/python3.10/site-packages (from jupyter==1.0.0->-r requirements.txt (line 9)) (5.5.2)\n",
      "Requirement already satisfied: notebook in /opt/conda/lib/python3.10/site-packages (from jupyter==1.0.0->-r requirements.txt (line 9)) (6.5.6)\n",
      "Requirement already satisfied: jupyter-console in /opt/conda/lib/python3.10/site-packages (from jupyter==1.0.0->-r requirements.txt (line 9)) (6.6.3)\n",
      "Requirement already satisfied: nbconvert in /opt/conda/lib/python3.10/site-packages (from jupyter==1.0.0->-r requirements.txt (line 9)) (7.16.4)\n",
      "Requirement already satisfied: ipywidgets in /opt/conda/lib/python3.10/site-packages (from jupyter==1.0.0->-r requirements.txt (line 9)) (8.1.2)\n",
      "Requirement already satisfied: ipykernel in /opt/conda/lib/python3.10/site-packages (from jupyter==1.0.0->-r requirements.txt (line 9)) (6.29.4)\n",
      "Requirement already satisfied: regex>=2022.1.18 in /opt/conda/lib/python3.10/site-packages (from tiktoken==0.4.0->-r requirements.txt (line 10)) (2024.5.15)\n",
      "Requirement already satisfied: pytz>=2020.1 in /opt/conda/lib/python3.10/site-packages (from pandas==2.1.0->-r requirements.txt (line 11)) (2022.7)\n",
      "Requirement already satisfied: python-dateutil>=2.8.2 in /opt/conda/lib/python3.10/site-packages (from pandas==2.1.0->-r requirements.txt (line 11)) (2.9.0.post0)\n",
      "Requirement already satisfied: tzdata>=2022.1 in /home/student/.local/lib/python3.10/site-packages (from pandas==2.1.0->-r requirements.txt (line 11)) (2025.2)\n"
     ]
    },
    {
     "name": "stdout",
     "output_type": "stream",
     "text": [
      "Requirement already satisfied: packaging>=20.9 in /opt/conda/lib/python3.10/site-packages (from huggingface_hub==0.16.4->-r requirements.txt (line 14)) (23.0)\n",
      "Requirement already satisfied: fsspec in /opt/conda/lib/python3.10/site-packages (from huggingface_hub==0.16.4->-r requirements.txt (line 14)) (2024.5.0)\n",
      "Requirement already satisfied: filelock in /opt/conda/lib/python3.10/site-packages (from huggingface_hub==0.16.4->-r requirements.txt (line 14)) (3.9.0)\n",
      "Requirement already satisfied: tomli>=1 in /opt/conda/lib/python3.10/site-packages (from pytest>=7.4.0->-r requirements.txt (line 5)) (2.0.1)\n",
      "Requirement already satisfied: pygments>=2.7.2 in /opt/conda/lib/python3.10/site-packages (from pytest>=7.4.0->-r requirements.txt (line 5)) (2.15.1)\n",
      "Requirement already satisfied: iniconfig>=1 in /opt/conda/lib/python3.10/site-packages (from pytest>=7.4.0->-r requirements.txt (line 5)) (2.0.0)\n",
      "Requirement already satisfied: pluggy<2,>=1.5 in /home/student/.local/lib/python3.10/site-packages (from pytest>=7.4.0->-r requirements.txt (line 5)) (1.6.0)\n",
      "Requirement already satisfied: exceptiongroup>=1 in /opt/conda/lib/python3.10/site-packages (from pytest>=7.4.0->-r requirements.txt (line 5)) (1.1.1)\n",
      "Requirement already satisfied: safetensors>=0.3.1 in /opt/conda/lib/python3.10/site-packages (from transformers>=4.31.0->-r requirements.txt (line 7)) (0.4.3)\n",
      "Requirement already satisfied: aiosignal>=1.1.2 in /opt/conda/lib/python3.10/site-packages (from aiohttp<4.0.0,>=3.8.3->langchain==0.0.305->-r requirements.txt (line 2)) (1.3.1)\n",
      "Requirement already satisfied: yarl<2.0,>=1.0 in /opt/conda/lib/python3.10/site-packages (from aiohttp<4.0.0,>=3.8.3->langchain==0.0.305->-r requirements.txt (line 2)) (1.9.4)\n",
      "Requirement already satisfied: multidict<7.0,>=4.5 in /opt/conda/lib/python3.10/site-packages (from aiohttp<4.0.0,>=3.8.3->langchain==0.0.305->-r requirements.txt (line 2)) (6.0.5)\n",
      "Requirement already satisfied: frozenlist>=1.1.1 in /opt/conda/lib/python3.10/site-packages (from aiohttp<4.0.0,>=3.8.3->langchain==0.0.305->-r requirements.txt (line 2)) (1.4.1)\n",
      "Requirement already satisfied: attrs>=17.3.0 in /opt/conda/lib/python3.10/site-packages (from aiohttp<4.0.0,>=3.8.3->langchain==0.0.305->-r requirements.txt (line 2)) (23.1.0)\n",
      "Requirement already satisfied: sniffio>=1.1 in /opt/conda/lib/python3.10/site-packages (from anyio<4.0->langchain==0.0.305->-r requirements.txt (line 2)) (1.3.1)\n",
      "Requirement already satisfied: idna>=2.8 in /opt/conda/lib/python3.10/site-packages (from anyio<4.0->langchain==0.0.305->-r requirements.txt (line 2)) (3.4)\n",
      "Requirement already satisfied: marshmallow<4.0.0,>=3.18.0 in /opt/conda/lib/python3.10/site-packages (from dataclasses-json<0.7,>=0.5.7->langchain==0.0.305->-r requirements.txt (line 2)) (3.21.2)\n",
      "Requirement already satisfied: typing-inspect<1,>=0.4.0 in /opt/conda/lib/python3.10/site-packages (from dataclasses-json<0.7,>=0.5.7->langchain==0.0.305->-r requirements.txt (line 2)) (0.9.0)\n",
      "Requirement already satisfied: starlette<0.28.0,>=0.27.0 in /opt/conda/lib/python3.10/site-packages (from fastapi<0.100.0,>=0.95.2->chromadb==0.4.12->-r requirements.txt (line 8)) (0.27.0)\n",
      "Requirement already satisfied: jsonpointer>=1.9 in /opt/conda/lib/python3.10/site-packages (from jsonpatch<2.0,>=1.33->langchain==0.0.305->-r requirements.txt (line 2)) (2.1)\n",
      "Requirement already satisfied: sympy in /opt/conda/lib/python3.10/site-packages (from onnxruntime>=1.14.1->chromadb==0.4.12->-r requirements.txt (line 8)) (1.12)\n",
      "Requirement already satisfied: protobuf in /opt/conda/lib/python3.10/site-packages (from onnxruntime>=1.14.1->chromadb==0.4.12->-r requirements.txt (line 8)) (5.26.1)\n",
      "Requirement already satisfied: flatbuffers in /opt/conda/lib/python3.10/site-packages (from onnxruntime>=1.14.1->chromadb==0.4.12->-r requirements.txt (line 8)) (24.3.25)\n",
      "Requirement already satisfied: coloredlogs in /opt/conda/lib/python3.10/site-packages (from onnxruntime>=1.14.1->chromadb==0.4.12->-r requirements.txt (line 8)) (15.0.1)\n",
      "Requirement already satisfied: monotonic>=1.5 in /opt/conda/lib/python3.10/site-packages (from posthog>=2.4.0->chromadb==0.4.12->-r requirements.txt (line 8)) (1.6)\n",
      "Requirement already satisfied: backoff>=1.10.0 in /opt/conda/lib/python3.10/site-packages (from posthog>=2.4.0->chromadb==0.4.12->-r requirements.txt (line 8)) (2.2.1)\n",
      "Requirement already satisfied: six>=1.5 in /opt/conda/lib/python3.10/site-packages (from posthog>=2.4.0->chromadb==0.4.12->-r requirements.txt (line 8)) (1.16.0)\n",
      "Requirement already satisfied: certifi in /opt/conda/lib/python3.10/site-packages (from pulsar-client>=3.1.0->chromadb==0.4.12->-r requirements.txt (line 8)) (2023.5.7)\n",
      "Requirement already satisfied: urllib3<1.27,>=1.21.1 in /opt/conda/lib/python3.10/site-packages (from requests<3,>=2->langchain==0.0.305->-r requirements.txt (line 2)) (1.26.15)\n",
      "Requirement already satisfied: charset-normalizer<4,>=2 in /opt/conda/lib/python3.10/site-packages (from requests<3,>=2->langchain==0.0.305->-r requirements.txt (line 2)) (2.0.4)\n",
      "Requirement already satisfied: greenlet!=0.4.17 in /opt/conda/lib/python3.10/site-packages (from SQLAlchemy<3,>=1.4->langchain==0.0.305->-r requirements.txt (line 2)) (3.0.3)\n",
      "Requirement already satisfied: networkx in /opt/conda/lib/python3.10/site-packages (from torch>=1.6.0->sentence-transformers==2.2.0->-r requirements.txt (line 6)) (3.1)\n",
      "Requirement already satisfied: jinja2 in /opt/conda/lib/python3.10/site-packages (from torch>=1.6.0->sentence-transformers==2.2.0->-r requirements.txt (line 6)) (3.1.2)\n",
      "Requirement already satisfied: shellingham>=1.3.0 in /opt/conda/lib/python3.10/site-packages (from typer>=0.9.0->chromadb==0.4.12->-r requirements.txt (line 8)) (1.5.4)\n",
      "Requirement already satisfied: click>=8.0.0 in /opt/conda/lib/python3.10/site-packages (from typer>=0.9.0->chromadb==0.4.12->-r requirements.txt (line 8)) (8.1.7)\n",
      "Requirement already satisfied: rich>=10.11.0 in /opt/conda/lib/python3.10/site-packages (from typer>=0.9.0->chromadb==0.4.12->-r requirements.txt (line 8)) (13.7.1)\n",
      "Requirement already satisfied: h11>=0.8 in /opt/conda/lib/python3.10/site-packages (from uvicorn[standard]>=0.18.3->chromadb==0.4.12->-r requirements.txt (line 8)) (0.14.0)\n",
      "Requirement already satisfied: httptools>=0.5.0 in /opt/conda/lib/python3.10/site-packages (from uvicorn[standard]>=0.18.3->chromadb==0.4.12->-r requirements.txt (line 8)) (0.6.1)\n",
      "Requirement already satisfied: python-dotenv>=0.13 in /opt/conda/lib/python3.10/site-packages (from uvicorn[standard]>=0.18.3->chromadb==0.4.12->-r requirements.txt (line 8)) (1.0.1)\n",
      "Requirement already satisfied: watchfiles>=0.13 in /opt/conda/lib/python3.10/site-packages (from uvicorn[standard]>=0.18.3->chromadb==0.4.12->-r requirements.txt (line 8)) (0.21.0)\n",
      "Requirement already satisfied: websockets>=10.4 in /opt/conda/lib/python3.10/site-packages (from uvicorn[standard]>=0.18.3->chromadb==0.4.12->-r requirements.txt (line 8)) (12.0)\n",
      "Requirement already satisfied: uvloop!=0.15.0,!=0.15.1,>=0.14.0 in /opt/conda/lib/python3.10/site-packages (from uvicorn[standard]>=0.18.3->chromadb==0.4.12->-r requirements.txt (line 8)) (0.19.0)\n",
      "Requirement already satisfied: comm>=0.1.1 in /opt/conda/lib/python3.10/site-packages (from ipykernel->jupyter==1.0.0->-r requirements.txt (line 9)) (0.2.2)\n",
      "Requirement already satisfied: jupyter-core!=5.0.*,>=4.12 in /opt/conda/lib/python3.10/site-packages (from ipykernel->jupyter==1.0.0->-r requirements.txt (line 9)) (5.7.2)\n",
      "Requirement already satisfied: jupyter-client>=6.1.12 in /opt/conda/lib/python3.10/site-packages (from ipykernel->jupyter==1.0.0->-r requirements.txt (line 9)) (7.4.9)\n",
      "Requirement already satisfied: ipython>=7.23.1 in /opt/conda/lib/python3.10/site-packages (from ipykernel->jupyter==1.0.0->-r requirements.txt (line 9)) (8.12.0)\n",
      "Requirement already satisfied: tornado>=6.1 in /opt/conda/lib/python3.10/site-packages (from ipykernel->jupyter==1.0.0->-r requirements.txt (line 9)) (6.4)\n",
      "Requirement already satisfied: matplotlib-inline>=0.1 in /opt/conda/lib/python3.10/site-packages (from ipykernel->jupyter==1.0.0->-r requirements.txt (line 9)) (0.1.6)\n",
      "Requirement already satisfied: psutil in /opt/conda/lib/python3.10/site-packages (from ipykernel->jupyter==1.0.0->-r requirements.txt (line 9)) (5.9.0)\n",
      "Requirement already satisfied: traitlets>=5.4.0 in /opt/conda/lib/python3.10/site-packages (from ipykernel->jupyter==1.0.0->-r requirements.txt (line 9)) (5.7.1)\n",
      "Requirement already satisfied: pyzmq>=24 in /opt/conda/lib/python3.10/site-packages (from ipykernel->jupyter==1.0.0->-r requirements.txt (line 9)) (24.0.1)\n",
      "Requirement already satisfied: debugpy>=1.6.5 in /opt/conda/lib/python3.10/site-packages (from ipykernel->jupyter==1.0.0->-r requirements.txt (line 9)) (1.8.1)\n",
      "Requirement already satisfied: nest-asyncio in /opt/conda/lib/python3.10/site-packages (from ipykernel->jupyter==1.0.0->-r requirements.txt (line 9)) (1.6.0)\n",
      "Requirement already satisfied: widgetsnbextension~=4.0.10 in /opt/conda/lib/python3.10/site-packages (from ipywidgets->jupyter==1.0.0->-r requirements.txt (line 9)) (4.0.10)\n",
      "Requirement already satisfied: jupyterlab-widgets~=3.0.10 in /opt/conda/lib/python3.10/site-packages (from ipywidgets->jupyter==1.0.0->-r requirements.txt (line 9)) (3.0.10)\n"
     ]
    },
    {
     "name": "stdout",
     "output_type": "stream",
     "text": [
      "Requirement already satisfied: prompt-toolkit>=3.0.30 in /opt/conda/lib/python3.10/site-packages (from jupyter-console->jupyter==1.0.0->-r requirements.txt (line 9)) (3.0.36)\n",
      "Requirement already satisfied: nbclient>=0.5.0 in /opt/conda/lib/python3.10/site-packages (from nbconvert->jupyter==1.0.0->-r requirements.txt (line 9)) (0.10.0)\n",
      "Requirement already satisfied: jupyterlab-pygments in /opt/conda/lib/python3.10/site-packages (from nbconvert->jupyter==1.0.0->-r requirements.txt (line 9)) (0.3.0)\n",
      "Requirement already satisfied: tinycss2 in /opt/conda/lib/python3.10/site-packages (from nbconvert->jupyter==1.0.0->-r requirements.txt (line 9)) (1.3.0)\n",
      "Requirement already satisfied: defusedxml in /opt/conda/lib/python3.10/site-packages (from nbconvert->jupyter==1.0.0->-r requirements.txt (line 9)) (0.7.1)\n",
      "Requirement already satisfied: pandocfilters>=1.4.1 in /opt/conda/lib/python3.10/site-packages (from nbconvert->jupyter==1.0.0->-r requirements.txt (line 9)) (1.5.1)\n",
      "Requirement already satisfied: nbformat>=5.7 in /opt/conda/lib/python3.10/site-packages (from nbconvert->jupyter==1.0.0->-r requirements.txt (line 9)) (5.10.4)\n",
      "Requirement already satisfied: mistune<4,>=2.0.3 in /opt/conda/lib/python3.10/site-packages (from nbconvert->jupyter==1.0.0->-r requirements.txt (line 9)) (3.0.2)\n",
      "Requirement already satisfied: markupsafe>=2.0 in /opt/conda/lib/python3.10/site-packages (from nbconvert->jupyter==1.0.0->-r requirements.txt (line 9)) (2.1.1)\n",
      "Requirement already satisfied: beautifulsoup4 in /opt/conda/lib/python3.10/site-packages (from nbconvert->jupyter==1.0.0->-r requirements.txt (line 9)) (4.12.2)\n",
      "Requirement already satisfied: bleach!=5.0.0 in /opt/conda/lib/python3.10/site-packages (from nbconvert->jupyter==1.0.0->-r requirements.txt (line 9)) (6.1.0)\n",
      "Requirement already satisfied: joblib in /opt/conda/lib/python3.10/site-packages (from nltk->sentence-transformers==2.2.0->-r requirements.txt (line 6)) (1.4.2)\n",
      "Requirement already satisfied: ipython-genutils in /opt/conda/lib/python3.10/site-packages (from notebook->jupyter==1.0.0->-r requirements.txt (line 9)) (0.2.0)\n",
      "Requirement already satisfied: terminado>=0.8.3 in /opt/conda/lib/python3.10/site-packages (from notebook->jupyter==1.0.0->-r requirements.txt (line 9)) (0.18.1)\n",
      "Requirement already satisfied: Send2Trash>=1.8.0 in /opt/conda/lib/python3.10/site-packages (from notebook->jupyter==1.0.0->-r requirements.txt (line 9)) (1.8.3)\n",
      "Requirement already satisfied: nbclassic>=0.4.7 in /opt/conda/lib/python3.10/site-packages (from notebook->jupyter==1.0.0->-r requirements.txt (line 9)) (1.0.0)\n",
      "Requirement already satisfied: prometheus-client in /opt/conda/lib/python3.10/site-packages (from notebook->jupyter==1.0.0->-r requirements.txt (line 9)) (0.20.0)\n",
      "Requirement already satisfied: argon2-cffi in /opt/conda/lib/python3.10/site-packages (from notebook->jupyter==1.0.0->-r requirements.txt (line 9)) (23.1.0)\n",
      "Requirement already satisfied: qtpy>=2.4.0 in /opt/conda/lib/python3.10/site-packages (from qtconsole->jupyter==1.0.0->-r requirements.txt (line 9)) (2.4.1)\n",
      "Requirement already satisfied: threadpoolctl>=2.0.0 in /opt/conda/lib/python3.10/site-packages (from scikit-learn->sentence-transformers==2.2.0->-r requirements.txt (line 6)) (3.5.0)\n",
      "Requirement already satisfied: webencodings in /opt/conda/lib/python3.10/site-packages (from bleach!=5.0.0->nbconvert->jupyter==1.0.0->-r requirements.txt (line 9)) (0.5.1)\n",
      "Requirement already satisfied: pexpect>4.3 in /opt/conda/lib/python3.10/site-packages (from ipython>=7.23.1->ipykernel->jupyter==1.0.0->-r requirements.txt (line 9)) (4.8.0)\n",
      "Requirement already satisfied: pickleshare in /opt/conda/lib/python3.10/site-packages (from ipython>=7.23.1->ipykernel->jupyter==1.0.0->-r requirements.txt (line 9)) (0.7.5)\n",
      "Requirement already satisfied: stack-data in /opt/conda/lib/python3.10/site-packages (from ipython>=7.23.1->ipykernel->jupyter==1.0.0->-r requirements.txt (line 9)) (0.2.0)\n",
      "Requirement already satisfied: jedi>=0.16 in /opt/conda/lib/python3.10/site-packages (from ipython>=7.23.1->ipykernel->jupyter==1.0.0->-r requirements.txt (line 9)) (0.18.1)\n",
      "Requirement already satisfied: backcall in /opt/conda/lib/python3.10/site-packages (from ipython>=7.23.1->ipykernel->jupyter==1.0.0->-r requirements.txt (line 9)) (0.2.0)\n",
      "Requirement already satisfied: decorator in /opt/conda/lib/python3.10/site-packages (from ipython>=7.23.1->ipykernel->jupyter==1.0.0->-r requirements.txt (line 9)) (5.1.1)\n",
      "Requirement already satisfied: entrypoints in /opt/conda/lib/python3.10/site-packages (from jupyter-client>=6.1.12->ipykernel->jupyter==1.0.0->-r requirements.txt (line 9)) (0.4)\n",
      "Requirement already satisfied: platformdirs>=2.5 in /opt/conda/lib/python3.10/site-packages (from jupyter-core!=5.0.*,>=4.12->ipykernel->jupyter==1.0.0->-r requirements.txt (line 9)) (4.2.2)\n",
      "Requirement already satisfied: notebook-shim>=0.2.3 in /opt/conda/lib/python3.10/site-packages (from nbclassic>=0.4.7->notebook->jupyter==1.0.0->-r requirements.txt (line 9)) (0.2.4)\n",
      "Requirement already satisfied: jupyter-server>=1.8 in /opt/conda/lib/python3.10/site-packages (from nbclassic>=0.4.7->notebook->jupyter==1.0.0->-r requirements.txt (line 9)) (2.14.0)\n",
      "Requirement already satisfied: jsonschema>=2.6 in /opt/conda/lib/python3.10/site-packages (from nbformat>=5.7->nbconvert->jupyter==1.0.0->-r requirements.txt (line 9)) (4.22.0)\n",
      "Requirement already satisfied: fastjsonschema>=2.15 in /opt/conda/lib/python3.10/site-packages (from nbformat>=5.7->nbconvert->jupyter==1.0.0->-r requirements.txt (line 9)) (2.19.1)\n",
      "Requirement already satisfied: wcwidth in /opt/conda/lib/python3.10/site-packages (from prompt-toolkit>=3.0.30->jupyter-console->jupyter==1.0.0->-r requirements.txt (line 9)) (0.2.5)\n",
      "Requirement already satisfied: markdown-it-py>=2.2.0 in /opt/conda/lib/python3.10/site-packages (from rich>=10.11.0->typer>=0.9.0->chromadb==0.4.12->-r requirements.txt (line 8)) (3.0.0)\n",
      "Requirement already satisfied: ptyprocess in /opt/conda/lib/python3.10/site-packages (from terminado>=0.8.3->notebook->jupyter==1.0.0->-r requirements.txt (line 9)) (0.7.0)\n",
      "Requirement already satisfied: mypy-extensions>=0.3.0 in /opt/conda/lib/python3.10/site-packages (from typing-inspect<1,>=0.4.0->dataclasses-json<0.7,>=0.5.7->langchain==0.0.305->-r requirements.txt (line 2)) (1.0.0)\n",
      "Requirement already satisfied: argon2-cffi-bindings in /opt/conda/lib/python3.10/site-packages (from argon2-cffi->notebook->jupyter==1.0.0->-r requirements.txt (line 9)) (21.2.0)\n",
      "Requirement already satisfied: soupsieve>1.2 in /opt/conda/lib/python3.10/site-packages (from beautifulsoup4->nbconvert->jupyter==1.0.0->-r requirements.txt (line 9)) (2.4)\n",
      "Requirement already satisfied: humanfriendly>=9.1 in /opt/conda/lib/python3.10/site-packages (from coloredlogs->onnxruntime>=1.14.1->chromadb==0.4.12->-r requirements.txt (line 8)) (10.0)\n",
      "Requirement already satisfied: mpmath>=0.19 in /opt/conda/lib/python3.10/site-packages (from sympy->onnxruntime>=1.14.1->chromadb==0.4.12->-r requirements.txt (line 8)) (1.3.0)\n",
      "Requirement already satisfied: parso<0.9.0,>=0.8.0 in /opt/conda/lib/python3.10/site-packages (from jedi>=0.16->ipython>=7.23.1->ipykernel->jupyter==1.0.0->-r requirements.txt (line 9)) (0.8.3)\n",
      "Requirement already satisfied: referencing>=0.28.4 in /opt/conda/lib/python3.10/site-packages (from jsonschema>=2.6->nbformat>=5.7->nbconvert->jupyter==1.0.0->-r requirements.txt (line 9)) (0.35.1)\n",
      "Requirement already satisfied: jsonschema-specifications>=2023.03.6 in /opt/conda/lib/python3.10/site-packages (from jsonschema>=2.6->nbformat>=5.7->nbconvert->jupyter==1.0.0->-r requirements.txt (line 9)) (2023.12.1)\n",
      "Requirement already satisfied: rpds-py>=0.7.1 in /opt/conda/lib/python3.10/site-packages (from jsonschema>=2.6->nbformat>=5.7->nbconvert->jupyter==1.0.0->-r requirements.txt (line 9)) (0.18.1)\n",
      "Requirement already satisfied: websocket-client>=1.7 in /opt/conda/lib/python3.10/site-packages (from jupyter-server>=1.8->nbclassic>=0.4.7->notebook->jupyter==1.0.0->-r requirements.txt (line 9)) (1.8.0)\n",
      "Requirement already satisfied: jupyter-events>=0.9.0 in /opt/conda/lib/python3.10/site-packages (from jupyter-server>=1.8->nbclassic>=0.4.7->notebook->jupyter==1.0.0->-r requirements.txt (line 9)) (0.10.0)\n",
      "Requirement already satisfied: jupyter-server-terminals>=0.4.4 in /opt/conda/lib/python3.10/site-packages (from jupyter-server>=1.8->nbclassic>=0.4.7->notebook->jupyter==1.0.0->-r requirements.txt (line 9)) (0.5.3)\n"
     ]
    },
    {
     "name": "stdout",
     "output_type": "stream",
     "text": [
      "Requirement already satisfied: mdurl~=0.1 in /opt/conda/lib/python3.10/site-packages (from markdown-it-py>=2.2.0->rich>=10.11.0->typer>=0.9.0->chromadb==0.4.12->-r requirements.txt (line 8)) (0.1.2)\n",
      "Requirement already satisfied: cffi>=1.0.1 in /opt/conda/lib/python3.10/site-packages (from argon2-cffi-bindings->argon2-cffi->notebook->jupyter==1.0.0->-r requirements.txt (line 9)) (1.15.1)\n",
      "Requirement already satisfied: asttokens in /opt/conda/lib/python3.10/site-packages (from stack-data->ipython>=7.23.1->ipykernel->jupyter==1.0.0->-r requirements.txt (line 9)) (2.0.5)\n",
      "Requirement already satisfied: executing in /opt/conda/lib/python3.10/site-packages (from stack-data->ipython>=7.23.1->ipykernel->jupyter==1.0.0->-r requirements.txt (line 9)) (0.8.3)\n",
      "Requirement already satisfied: pure-eval in /opt/conda/lib/python3.10/site-packages (from stack-data->ipython>=7.23.1->ipykernel->jupyter==1.0.0->-r requirements.txt (line 9)) (0.2.2)\n",
      "Requirement already satisfied: pycparser in /opt/conda/lib/python3.10/site-packages (from cffi>=1.0.1->argon2-cffi-bindings->argon2-cffi->notebook->jupyter==1.0.0->-r requirements.txt (line 9)) (2.21)\n",
      "Requirement already satisfied: rfc3986-validator>=0.1.1 in /opt/conda/lib/python3.10/site-packages (from jupyter-events>=0.9.0->jupyter-server>=1.8->nbclassic>=0.4.7->notebook->jupyter==1.0.0->-r requirements.txt (line 9)) (0.1.1)\n",
      "Requirement already satisfied: python-json-logger>=2.0.4 in /opt/conda/lib/python3.10/site-packages (from jupyter-events>=0.9.0->jupyter-server>=1.8->nbclassic>=0.4.7->notebook->jupyter==1.0.0->-r requirements.txt (line 9)) (2.0.7)\n",
      "Requirement already satisfied: rfc3339-validator in /opt/conda/lib/python3.10/site-packages (from jupyter-events>=0.9.0->jupyter-server>=1.8->nbclassic>=0.4.7->notebook->jupyter==1.0.0->-r requirements.txt (line 9)) (0.1.4)\n",
      "Requirement already satisfied: fqdn in /opt/conda/lib/python3.10/site-packages (from jsonschema>=2.6->nbformat>=5.7->nbconvert->jupyter==1.0.0->-r requirements.txt (line 9)) (1.5.1)\n",
      "Requirement already satisfied: uri-template in /opt/conda/lib/python3.10/site-packages (from jsonschema>=2.6->nbformat>=5.7->nbconvert->jupyter==1.0.0->-r requirements.txt (line 9)) (1.3.0)\n",
      "Requirement already satisfied: isoduration in /opt/conda/lib/python3.10/site-packages (from jsonschema>=2.6->nbformat>=5.7->nbconvert->jupyter==1.0.0->-r requirements.txt (line 9)) (20.11.0)\n",
      "Requirement already satisfied: webcolors>=1.11 in /opt/conda/lib/python3.10/site-packages (from jsonschema>=2.6->nbformat>=5.7->nbconvert->jupyter==1.0.0->-r requirements.txt (line 9)) (1.13)\n",
      "Requirement already satisfied: arrow>=0.15.0 in /opt/conda/lib/python3.10/site-packages (from isoduration->jsonschema>=2.6->nbformat>=5.7->nbconvert->jupyter==1.0.0->-r requirements.txt (line 9)) (1.3.0)\n",
      "Requirement already satisfied: types-python-dateutil>=2.8.10 in /opt/conda/lib/python3.10/site-packages (from arrow>=0.15.0->isoduration->jsonschema>=2.6->nbformat>=5.7->nbconvert->jupyter==1.0.0->-r requirements.txt (line 9)) (2.9.0.20240316)\n",
      "Note: you may need to restart the kernel to use updated packages.\n"
     ]
    }
   ],
   "source": [
    "pip install --user -r requirements.txt"
   ]
  },
  {
   "cell_type": "code",
   "execution_count": 2,
   "id": "6554fd4c",
   "metadata": {},
   "outputs": [],
   "source": [
    "import os\n",
    "\n",
    "os.environ[\"OPENAI_API_KEY\"] = \"my key\"\n",
    "os.environ[\"OPENAI_API_BASE\"] = \"https://openai.vocareum.com/v1\"\n",
    "\n",
    "#All libraries\n",
    "from langchain.llms import OpenAI\n",
    "from langchain.embeddings import OpenAIEmbeddings\n",
    "import chromadb\n",
    "from chromadb.config import Settings\n",
    "import json\n",
    "from langchain import PromptTemplate, LLMChain\n",
    "import pandas as pd"
   ]
  },
  {
   "cell_type": "code",
   "execution_count": 3,
   "id": "f4d648f8",
   "metadata": {},
   "outputs": [
    {
     "name": "stdout",
     "output_type": "stream",
     "text": [
      "Environment setup complete.\n"
     ]
    },
    {
     "name": "stderr",
     "output_type": "stream",
     "text": [
      "/opt/conda/lib/python3.10/site-packages/langchain/llms/openai.py:202: UserWarning: You are trying to use a chat model. This way of initializing it is no longer supported. Instead, please use: `from langchain.chat_models import ChatOpenAI`\n",
      "  warnings.warn(\n",
      "/opt/conda/lib/python3.10/site-packages/langchain/llms/openai.py:790: UserWarning: You are trying to use a chat model. This way of initializing it is no longer supported. Instead, please use: `from langchain.chat_models import ChatOpenAI`\n",
      "  warnings.warn(\n"
     ]
    }
   ],
   "source": [
    "# Initialize LLM and embedder\n",
    "llm = OpenAI(model_name='gpt-3.5-turbo')\n",
    "embedder = OpenAIEmbeddings()\n",
    "\n",
    "# Initialize ChromaDB client\n",
    "chroma_client = chromadb.Client()\n",
    "\n",
    "# Create or connect to the collection\n",
    "collection = chroma_client.get_or_create_collection(\n",
    "    name=\"home_match_listings\",\n",
    "    embedding_function=embedder\n",
    ")\n",
    "\n",
    "print(\"Environment setup complete.\")"
   ]
  },
  {
   "cell_type": "markdown",
   "id": "f2558d97",
   "metadata": {},
   "source": [
    "## 2. Synthetic Data Generation  "
   ]
  },
  {
   "cell_type": "code",
   "execution_count": 4,
   "id": "87ed4e7b",
   "metadata": {},
   "outputs": [
    {
     "name": "stdout",
     "output_type": "stream",
     "text": [
      "Saved 12 listings to listings.json.\n"
     ]
    }
   ],
   "source": [
    "def generate_listings(n=10):\n",
    "    base_prompt = (\n",
    "        \"Generate a realistic real estate listing in JSON format with fields: \"\n",
    "        \"neighborhood, price, bedrooms, bathrooms, size_sqft, description, neighborhood_description. \"\n",
    "        \"Ensure diverse locations, styles, and budgets.\"\n",
    "    )\n",
    "    listings = []\n",
    "    for i in range(n):\n",
    "        resp = llm(base_prompt + f\"\\n\\nListing {i+1}:\", temperature=0.7, max_tokens=400)\n",
    "        try:\n",
    "            data = json.loads(resp)\n",
    "            listings.append(data)\n",
    "        except json.JSONDecodeError:\n",
    "            print(f\"Couldn’t parse listing {i+1}\")\n",
    "    return listings\n",
    "\n",
    "# generate and save\n",
    "listings = generate_listings(12)\n",
    "with open(\"listings.json\", \"w\") as f:\n",
    "    json.dump(listings, f, indent=2)\n",
    "print(f\"Saved {len(listings)} listings to listings.json.\")\n"
   ]
  },
  {
   "cell_type": "code",
   "execution_count": 5,
   "id": "3ee58358",
   "metadata": {},
   "outputs": [
    {
     "name": "stdout",
     "output_type": "stream",
     "text": [
      "Saved synthetic listings to 'listings'\n"
     ]
    }
   ],
   "source": [
    " # Save listings to a line‐delimited text file, per the instructor’s instructions\n",
    "with open(\"listings\", \"w\") as f:\n",
    "    for lst in listings:\n",
    "        f.write(json.dumps(lst) + \"\\n\")\n",
    "print(\"Saved synthetic listings to 'listings'\")"
   ]
  },
  {
   "cell_type": "markdown",
   "id": "06968109",
   "metadata": {},
   "source": [
    "## 3. Embeddings & Vector Store  "
   ]
  },
  {
   "cell_type": "code",
   "execution_count": 6,
   "id": "2179fb29",
   "metadata": {},
   "outputs": [
    {
     "name": "stdout",
     "output_type": "stream",
     "text": [
      "Loaded 12 listings from listings.json.\n"
     ]
    }
   ],
   "source": [
    "# 1. Load generated listings\n",
    "with open('listings.json', 'r') as f:\n",
    "    listings = json.load(f)\n",
    "print(f\"Loaded {len(listings)} listings from listings.json.\")"
   ]
  },
  {
   "cell_type": "code",
   "execution_count": 7,
   "id": "b650894e",
   "metadata": {},
   "outputs": [],
   "source": [
    "# 2. Prepare each listing as a single text document\n",
    "documents, metadatas, ids = [], [], []\n",
    "for idx, lst in enumerate(listings, start=1):\n",
    "    text = (\n",
    "        f\"Neighborhood: {lst['neighborhood']}. \"\n",
    "        f\"Price: {lst['price']}. \"\n",
    "        f\"Bedrooms: {lst['bedrooms']}, Bathrooms: {lst['bathrooms']}. \"\n",
    "        f\"Size: {lst['size_sqft']} sqft. \"\n",
    "        f\"Description: {lst['description']}\"\n",
    "    )\n",
    "    documents.append(text)\n",
    "    metadatas.append(lst)\n",
    "    ids.append(f\"listing_{idx}\")"
   ]
  },
  {
   "cell_type": "code",
   "execution_count": 8,
   "id": "e1474b51",
   "metadata": {},
   "outputs": [
    {
     "name": "stdout",
     "output_type": "stream",
     "text": [
      "Computed embeddings for documents, vector length: 1536\n"
     ]
    }
   ],
   "source": [
    "# 3. Compute embeddings\n",
    "embeddings = embedder.embed_documents(documents)\n",
    "print(\"Computed embeddings for documents, vector length:\", len(embeddings[0]))"
   ]
  },
  {
   "cell_type": "code",
   "execution_count": 9,
   "id": "fe53b807",
   "metadata": {},
   "outputs": [
    {
     "name": "stdout",
     "output_type": "stream",
     "text": [
      "Indexed 12 listings in ChromaDB.\n"
     ]
    }
   ],
   "source": [
    "# 4. Add them to your ChromaDB collection\n",
    "collection.add(\n",
    "    ids=ids,\n",
    "    embeddings=embeddings,\n",
    "    metadatas=metadatas,\n",
    "    documents=documents\n",
    ")\n",
    "\n",
    "\n",
    "print(f\"Indexed {len(documents)} listings in ChromaDB.\")"
   ]
  },
  {
   "cell_type": "markdown",
   "id": "302b5d1c",
   "metadata": {},
   "source": [
    "## 4. Semantic Search  "
   ]
  },
  {
   "cell_type": "code",
   "execution_count": 10,
   "id": "67671f5a",
   "metadata": {},
   "outputs": [],
   "source": [
    "def search_listings(preferences: str, top_k: int = 5):\n",
    "    # 1. Embed the preferences\n",
    "    pref_embedding = embedder.embed_query(preferences)\n",
    "    # 2. Query the vector store\n",
    "    results = collection.query(\n",
    "        query_embeddings=[pref_embedding],\n",
    "        n_results=top_k\n",
    "    )\n",
    "    # 3. Collect matches\n",
    "    matches = []\n",
    "    for idx, rid in enumerate(results['ids'][0]):\n",
    "        metadata = results['metadatas'][0][idx]\n",
    "        score = results['distances'][0][idx]\n",
    "        entry = metadata.copy()\n",
    "        entry['score'] = score\n",
    "        matches.append(entry)\n",
    "    return matches"
   ]
  },
  {
   "cell_type": "code",
   "execution_count": 11,
   "id": "b53e22bf",
   "metadata": {},
   "outputs": [
    {
     "name": "stdout",
     "output_type": "stream",
     "text": [
      "Top 5 matches for Suburban Family Home\n"
     ]
    },
    {
     "data": {
      "text/html": [
       "<div>\n",
       "<style scoped>\n",
       "    .dataframe tbody tr th:only-of-type {\n",
       "        vertical-align: middle;\n",
       "    }\n",
       "\n",
       "    .dataframe tbody tr th {\n",
       "        vertical-align: top;\n",
       "    }\n",
       "\n",
       "    .dataframe thead th {\n",
       "        text-align: right;\n",
       "    }\n",
       "</style>\n",
       "<table border=\"1\" class=\"dataframe\">\n",
       "  <thead>\n",
       "    <tr style=\"text-align: right;\">\n",
       "      <th></th>\n",
       "      <th>neighborhood</th>\n",
       "      <th>price</th>\n",
       "      <th>score</th>\n",
       "    </tr>\n",
       "  </thead>\n",
       "  <tbody>\n",
       "    <tr>\n",
       "      <th>0</th>\n",
       "      <td>West Hollywood</td>\n",
       "      <td>$1,200,000</td>\n",
       "      <td>0.364597</td>\n",
       "    </tr>\n",
       "    <tr>\n",
       "      <th>1</th>\n",
       "      <td>West Hollywood</td>\n",
       "      <td>$1,250,000</td>\n",
       "      <td>0.365515</td>\n",
       "    </tr>\n",
       "    <tr>\n",
       "      <th>2</th>\n",
       "      <td>Park Slope</td>\n",
       "      <td>$1,200,000</td>\n",
       "      <td>0.368098</td>\n",
       "    </tr>\n",
       "    <tr>\n",
       "      <th>3</th>\n",
       "      <td>Williamsburg</td>\n",
       "      <td>$1,200,000</td>\n",
       "      <td>0.368478</td>\n",
       "    </tr>\n",
       "    <tr>\n",
       "      <th>4</th>\n",
       "      <td>Brooklyn Heights</td>\n",
       "      <td>$1,200,000</td>\n",
       "      <td>0.384759</td>\n",
       "    </tr>\n",
       "  </tbody>\n",
       "</table>\n",
       "</div>"
      ],
      "text/plain": [
       "       neighborhood       price     score\n",
       "0    West Hollywood  $1,200,000  0.364597\n",
       "1    West Hollywood  $1,250,000  0.365515\n",
       "2        Park Slope  $1,200,000  0.368098\n",
       "3      Williamsburg  $1,200,000  0.368478\n",
       "4  Brooklyn Heights  $1,200,000  0.384759"
      ]
     },
     "metadata": {},
     "output_type": "display_data"
    }
   ],
   "source": [
    "# 4. Run a pref example\n",
    "prefs = \"A quiet suburban home with 3 bedrooms, a large backyard, and proximity to good schools.\"\n",
    "\n",
    "results = search_listings(prefs, top_k=5)\n",
    "\n",
    "# Convert to DataFrame for readability\n",
    "def to_df(matches):\n",
    "    return pd.DataFrame([\n",
    "        {\"neighborhood\": m[\"neighborhood\"],\n",
    "         \"price\": m[\"price\"],\n",
    "         \"score\": m[\"score\"]}\n",
    "        for m in matches\n",
    "    ])\n",
    "\n",
    "df = to_df(results)\n",
    "\n",
    "print(\"Top 5 matches for Suburban Family Home\")\n",
    "display(df)"
   ]
  },
  {
   "cell_type": "markdown",
   "id": "f278d739",
   "metadata": {},
   "source": [
    "## 5. Personalized Descriptions  "
   ]
  },
  {
   "cell_type": "code",
   "execution_count": 12,
   "id": "a06bc03d",
   "metadata": {},
   "outputs": [],
   "source": [
    "# 1. Define a prompt template that injects buyer prefs + listing facts\n",
    "template = (\n",
    "    \"Buyer Preferences: {prefs}\\n\"\n",
    "    \"Listing Data: Neighborhood: {neighborhood}, Price: {price}, Bedrooms: {bedrooms}, \"\n",
    "    \"Bathrooms: {bathrooms}, Size: {size_sqft} sqft. Description: {description}\\n\\n\"\n",
    "    \"Write a personalized 2–3 paragraph property description that highlights the buyer’s \"\n",
    "    \"priorities without altering any factual details.\"\n",
    ")\n",
    "prompt = PromptTemplate(\n",
    "    input_variables=[\"prefs\", \"neighborhood\", \"price\", \"bedrooms\", \"bathrooms\", \"size_sqft\", \"description\"],\n",
    "    template=template\n",
    ")"
   ]
  },
  {
   "cell_type": "code",
   "execution_count": 13,
   "id": "3d31f3c5",
   "metadata": {},
   "outputs": [],
   "source": [
    "# 2. Create an LLMChain\n",
    "chain = LLMChain(llm=llm, prompt=prompt)"
   ]
  },
  {
   "cell_type": "code",
   "execution_count": 14,
   "id": "0ba70590",
   "metadata": {},
   "outputs": [],
   "source": [
    "# 3. Helper function to run it\n",
    "def personalize_listing(listing: dict, prefs: str) -> str:\n",
    "    return chain.run(\n",
    "        prefs=prefs,\n",
    "        neighborhood=listing[\"neighborhood\"],\n",
    "        price=listing[\"price\"],\n",
    "        bedrooms=listing[\"bedrooms\"],\n",
    "        bathrooms=listing[\"bathrooms\"],\n",
    "        size_sqft=listing[\"size_sqft\"],\n",
    "        description=listing[\"description\"]\n",
    "    )"
   ]
  },
  {
   "cell_type": "code",
   "execution_count": 15,
   "id": "aea78472",
   "metadata": {},
   "outputs": [
    {
     "name": "stdout",
     "output_type": "stream",
     "text": [
      "\n",
      "--- Personalized Descriptions ---\n",
      "\n",
      "Match 1: West Hollywood at $1,200,000\n",
      "Welcome home to this stunning modern property located in the quiet suburban neighborhood of West Hollywood. Boasting 3 bedrooms and 2 bathrooms, this newly renovated home offers a spacious 1800 sqft of living space, perfect for a growing family. The large backyard with a pool provides ample space for outdoor activities and entertaining guests. Situated in proximity to top-rated schools, this property is ideal for families looking to settle down in a peaceful and family-friendly community. Don't miss out on the opportunity to own your dream home in this sought-after neighborhood for $1,200,000.\n",
      "Match 2: West Hollywood at $1,250,000\n",
      "Welcome to your quiet suburban oasis in the heart of West Hollywood! This beautiful modern home boasts 3 bedrooms, 2.5 bathrooms, and a spacious backyard, perfect for enjoying the California sunshine. With high-end finishes and an open floor plan, this recently renovated property is ideal for entertaining friends and family. Plus, its proximity to top-rated schools makes it the perfect place to raise a family. Don't miss out on this fantastic opportunity to own a gorgeous home in a prime location!\n",
      "Match 3: Park Slope at $1,200,000\n",
      "Welcome home to this lovely brownstone townhouse nestled in the quiet suburban neighborhood of Park Slope. Boasting 3 bedrooms and 2 bathrooms, this charming property offers plenty of space for a growing family. The large backyard provides a peaceful retreat for outdoor gatherings and playtime. Situated in close proximity to top-rated schools, this home is perfect for those seeking a high-quality education for their children. With a modern kitchen, spacious living room, and luxurious master suite, this property truly has it all. Don't miss out on the opportunity to make this dream home yours!\n",
      "Match 4: Williamsburg at $1,200,000\n",
      "Welcome to your new quiet suburban oasis in the heart of Williamsburg! This beautiful brownstone townhouse features 3 bedrooms, 2 bathrooms, and a large backyard perfect for relaxing or entertaining. With original hardwood floors, high ceilings, and a renovated kitchen with stainless steel appliances and marble countertops, this historic home has everything you need. Located in a family-friendly neighborhood with proximity to good schools, trendy restaurants, bars, and shops, this property is the ideal blend of comfort and convenience. Don't miss out on the opportunity to make this your dream home!\n",
      "Match 5: Brooklyn Heights at $1,200,000\n",
      "Welcome to your perfect suburban oasis in the heart of Brooklyn Heights! This beautiful brownstone townhouse boasts 3 spacious bedrooms, 2 bathrooms, and a large backyard that is ideal for outdoor entertaining. The renovated kitchen features stainless steel appliances, while the hardwood floors throughout add a touch of elegance to the space. With a size of 1800 sqft, this home provides plenty of space for your family to grow and thrive. Located in a quiet neighborhood and close to top-rated schools, this property is the ideal place to call home for buyers looking for a peaceful suburban retreat in the bustling city. Don't miss out on this fantastic opportunity to make this dream home your reality!\n"
     ]
    }
   ],
   "source": [
    "# 4. Example usage\n",
    "print(\"\\n--- Personalized Descriptions ---\\n\")\n",
    "matches = search_listings(prefs)\n",
    "for i, match in enumerate(matches, start=1):\n",
    "    print(f\"Match {i}: {match['neighborhood']} at {match['price']}\")\n",
    "    print(personalize_listing(match, prefs))"
   ]
  },
  {
   "cell_type": "markdown",
   "id": "edb44ae7",
   "metadata": {},
   "source": [
    "## 6. Interactive Demo  "
   ]
  },
  {
   "cell_type": "code",
   "execution_count": 16,
   "id": "feb2a26e",
   "metadata": {},
   "outputs": [
    {
     "name": "stdout",
     "output_type": "stream",
     "text": [
      "Enter your home preferences (e.g. 3 beds, big yard, quiet suburb, etc):\n",
      "> A big house with a big yard. I prefer to live in a quiet neighborhood and must have 3 bedrooms\n",
      "\n",
      "Here are your top matches:\n",
      "\n",
      "--- Match 1: West Hollywood at $1,200,000 ---\n",
      "Welcome to your dream home in West Hollywood! This stunning property offers everything you're looking for, including a big house with 3 bedrooms and 2 bathrooms, perfect for you and your family. With a size of 1800 sqft, there's plenty of space for everyone to enjoy. The quiet neighborhood provides a peaceful and serene atmosphere, ideal for relaxing after a long day. Plus, the spacious backyard with a pool is perfect for hosting gatherings or simply unwinding in your own private oasis. Don't miss out on this opportunity to live in style and luxury in the heart of West Hollywood!\n",
      "\n",
      "--- Match 2: West Hollywood at $1,250,000 ---\n",
      "Welcome to your dream home in West Hollywood! This stunning property offers everything you've been searching for - a big house with a big yard, located in a quiet neighborhood. With 3 bedrooms and 2.5 bathrooms, this recently renovated modern home boasts high-end finishes and an open floor plan, perfect for entertaining friends and family. Step outside to the spacious backyard, complete with a pool, where you can relax and enjoy the California sunshine. Don't miss out on the opportunity to make this beautiful home yours and experience the ultimate in luxury living.\n",
      "\n",
      "--- Match 3: Williamsburg at $1,200,000 ---\n",
      "Welcome home to this charming brownstone townhouse located in the quiet neighborhood of Williamsburg. This spacious home boasts three bedrooms, perfect for accommodating your family or guests. The large yard provides ample space for outdoor activities and gatherings, offering a peaceful retreat from the bustling city. The renovated kitchen with stainless steel appliances and marble countertops is perfect for preparing delicious meals. With original hardwood floors and high ceilings, this historic home exudes character and charm. Conveniently located near trendy restaurants, bars, and shops, you'll have everything you need at your fingertips. Don't miss out on the opportunity to own this beautiful property that perfectly matches your preferences. Schedule a viewing today!\n",
      "\n"
     ]
    }
   ],
   "source": [
    "prefs = input(\"Enter your home preferences (e.g. 3 beds, big yard, quiet suburb, etc):\\n> \")\n",
    "matches = search_listings(prefs, top_k=3)\n",
    "\n",
    "print(\"\\nHere are your top matches:\\n\")\n",
    "for i, match in enumerate(matches, start=1):\n",
    "    print(f\"--- Match {i}: {match['neighborhood']} at {match['price']} ---\")\n",
    "    print(personalize_listing(match, prefs))\n",
    "    print()"
   ]
  },
  {
   "cell_type": "code",
   "execution_count": null,
   "id": "f5c516c5",
   "metadata": {},
   "outputs": [],
   "source": []
  }
 ],
 "metadata": {
  "kernelspec": {
   "display_name": "Python 3 (ipykernel)",
   "language": "python",
   "name": "python3"
  },
  "language_info": {
   "codemirror_mode": {
    "name": "ipython",
    "version": 3
   },
   "file_extension": ".py",
   "mimetype": "text/x-python",
   "name": "python",
   "nbconvert_exporter": "python",
   "pygments_lexer": "ipython3",
   "version": "3.10.11"
  }
 },
 "nbformat": 4,
 "nbformat_minor": 5
}
